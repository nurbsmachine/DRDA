{
 "cells": [
  {
   "cell_type": "code",
   "execution_count": 1,
   "id": "de985d99-1fb4-44ea-93f0-c549a3261dd2",
   "metadata": {},
   "outputs": [
    {
     "name": "stdout",
     "output_type": "stream",
     "text": [
      "Connected to ABB IRB 6700\n"
     ]
    }
   ],
   "source": [
    "import compas_rrc as rrc\n",
    "from compas.geometry import Point, Vector, Frame\n",
    "\n",
    "# Start ROS & ABB clients\n",
    "ros = rrc.RosClient()\n",
    "ros.run()\n",
    "\n",
    "abb = rrc.AbbClient(ros, '/rob1')\n",
    "print('Connected to ABB IRB 6700')\n",
    "    \n"
   ]
  },
  {
   "cell_type": "code",
   "execution_count": null,
   "id": "99a51f78",
   "metadata": {},
   "outputs": [],
   "source": [
    "# done = abb.send_and_wait(rrc.SetTool('tool0'))\n"
   ]
  },
  {
   "cell_type": "code",
   "execution_count": null,
   "id": "e748ccaa",
   "metadata": {},
   "outputs": [],
   "source": [
    "\n",
    "def open_gripper():\n",
    "    abb.send_and_wait(rrc.SetDigital('ABB_Scalable_IO_0_DO3', 1))\n",
    "    abb.send_and_wait(rrc.SetDigital('ABB_Scalable_IO_0_DO4', 1))\n",
    "    print(\" → Gripper opened\")\n",
    "\n",
    "def close_gripper():\n",
    "    abb.send_and_wait(rrc.SetDigital('ABB_Scalable_IO_0_DO5', 0))\n",
    "    abb.send_and_wait(rrc.SetDigital('ABB_Scalable_IO_0_DO6', 0))\n",
    "    print(\" → Gripper closed\")\n",
    "\n",
    "# Your four key frames\n",
    "frames = [\n",
    "    Frame(Point(-5.28, -2174.18, 1839.08),  Vector(0.173042,0.055946,-0.983324), Vector(0.984443,-0.040716,0.170922)),  # home pos\n",
    "    Frame(Point(196.362899, -1990.509986, 1560.908961),     Vector(0, 1, 0), Vector(1, 0, 0)),  # safe plane\n",
    "    Frame(Point(-303.637101, -1990.509986, 1560.908961),     Vector(0,1,0), Vector(1,0,0)),  # approach pick\n",
    "    Frame(Point(-303.637101, -1990.509986, 1060.908961),     Vector(0,1,0), Vector(1,0,0)),  # pick\n",
    "    Frame(Point(946.362899, -1990.509986, 1560.908961),     Vector(0,1,0), Vector(1,0,0)),  # approach place\n",
    "    Frame(Point(946.362899, -1990.509986, 1060.908961),     Vector(1,0,0), Vector(0,-1,0)),  # place\n",
    "]\n",
    "\n",
    "speedfly = 2000  # mm/s\n",
    "speedaction = 200  # mm/s\n",
    "zone  = rrc.Zone.Z20\n"
   ]
  },
  {
   "cell_type": "code",
   "execution_count": 8,
   "id": "66a53fa6",
   "metadata": {},
   "outputs": [
    {
     "data": {
      "text/plain": [
       "'Done'"
      ]
     },
     "execution_count": 8,
     "metadata": {},
     "output_type": "execute_result"
    }
   ],
   "source": [
    "\n",
    "# Step 1: go to Home plane (JOINT)\n",
    "abb.send_and_wait(rrc.MoveToFrame(frames[0], speedfly, zone, rrc.Motion.JOINT))\n"
   ]
  },
  {
   "cell_type": "code",
   "execution_count": 10,
   "id": "95b93024-7838-498c-bb90-31bcc6860fc6",
   "metadata": {},
   "outputs": [
    {
     "name": "stdout",
     "output_type": "stream",
     "text": [
      "All frames completed.\n"
     ]
    }
   ],
   "source": [
    "# Step 1: go to safe plane (JOINT)\n",
    "abb.send_and_wait(rrc.MoveToFrame(frames[1], speedfly, zone, rrc.Motion.JOINT))\n",
    "\n",
    "# Step 2: go to approach pick plane (LINEAR) > open gripper\n",
    "abb.send_and_wait(rrc.MoveToFrame(frames[2], speedaction, zone, rrc.Motion.LINEAR))\n",
    "open_gripper()\n",
    "\n",
    "# Step 3: go to pick plane > close gripper (LINEAR)\n",
    "abb.send_and_wait(rrc.MoveToFrame(frames[3], speedaction, zone, rrc.Motion.LINEAR))\n",
    "abb.send_and_wait(rrc.WaitTime(2.0)) \n",
    "close_gripper() #add wait time here\n",
    "abb.send_and_wait(rrc.WaitTime(2.0)) \n",
    "\n",
    "# Step 4: return to approach pick plane (LINEAR)\n",
    "abb.send_and_wait(rrc.MoveToFrame(frames[2], speedaction, zone, rrc.Motion.LINEAR))\n",
    "\n",
    "\n",
    "# Step 5: go to approach place plane (JOINT)\n",
    "abb.send_and_wait(rrc.MoveToFrame(frames[4], speedfly, zone, rrc.Motion.JOINT))\n",
    "\n",
    "# Step 6: go to place plane (LINEAR) > open gripper\n",
    "abb.send_and_wait(rrc.MoveToFrame(frames[5], speedaction, zone, rrc.Motion.LINEAR))\n",
    "abb.send_and_wait(rrc.WaitTime(2.0)) \n",
    "open_gripper()\n",
    "abb.send_and_wait(rrc.WaitTime(2.0)) \n",
    "\n",
    "# Step 7: return to approach place plane (LINEAR)\n",
    "abb.send_and_wait(rrc.MoveToFrame(frames[4], speedaction, zone, rrc.Motion.LINEAR))\n",
    "\n",
    "# Step 8: go back to safe plane (LINEAR)\n",
    "abb.send_and_wait(rrc.MoveToFrame(frames[1], speedfly, zone, rrc.Motion.LINEAR))\n",
    "\n",
    "# Step 9: go to Home plane (JOINT)\n",
    "abb.send_and_wait(rrc.MoveToFrame(frames[0], speedfly, zone, rrc.Motion.JOINT))\n",
    "\n",
    "\n",
    "\n",
    "\n",
    "print(\"All frames completed.\")\n"
   ]
  },
  {
   "cell_type": "code",
   "execution_count": null,
   "id": "b0104b91-8243-4bea-8252-3e6242499cc1",
   "metadata": {},
   "outputs": [],
   "source": [
    "ros.close()\n",
    "ros.terminate()\n"
   ]
  },
  {
   "cell_type": "code",
   "execution_count": null,
   "id": "16517401-9e11-47f8-9c29-f09014b343e8",
   "metadata": {},
   "outputs": [],
   "source": []
  }
 ],
 "metadata": {
  "kernelspec": {
   "display_name": "compas_env",
   "language": "python",
   "name": "python3"
  },
  "language_info": {
   "codemirror_mode": {
    "name": "ipython",
    "version": 3
   },
   "file_extension": ".py",
   "mimetype": "text/x-python",
   "name": "python",
   "nbconvert_exporter": "python",
   "pygments_lexer": "ipython3",
   "version": "3.8.20"
  }
 },
 "nbformat": 4,
 "nbformat_minor": 5
}
