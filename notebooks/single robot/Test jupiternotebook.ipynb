{
 "cells": [
  {
   "cell_type": "code",
   "execution_count": null,
   "id": "de985d99-1fb4-44ea-93f0-c549a3261dd2",
   "metadata": {},
   "outputs": [
    {
     "name": "stdout",
     "output_type": "stream",
     "text": [
      "Connected to ABB IRB 6700\n"
     ]
    }
   ],
   "source": [
    "import compas_rrc as rrc\n",
    "from compas.geometry import Point, Vector, Frame\n",
    "\n",
    "# Start ROS & ABB clients\n",
    "ros = rrc.RosClient()\n",
    "ros.run()\n",
    "\n",
    "abb = rrc.AbbClient(ros, '/rob1')\n",
    "print('Connected to ABB IRB 6700')\n",
    "\n",
    "\n",
    "\n",
    "\n",
    "def open_gripper():\n",
    "    abb.send_and_wait(rrc.SetDigital('ABB_Scalable_IO_0_DO3',1))\n",
    "    abb.send_and_wait(rrc.SetDigital('ABB_Scalable_IO_0_DO4',1))\n",
    "\n",
    "def close_gripper():\n",
    "    abb.send_and_wait(rrc.SetDigital('ABB_Scalable_IO_0_DO5',0))\n",
    "    abb.send_and_wait(rrc.SetDigital('ABB_Scalable_IO_0_DO6',0))\n",
    "\n",
    "    \n"
   ]
  },
  {
   "cell_type": "code",
   "execution_count": null,
   "id": "e748ccaa",
   "metadata": {},
   "outputs": [],
   "source": [
    "open_gripper()\n"
   ]
  },
  {
   "cell_type": "code",
   "execution_count": null,
   "id": "95b93024-7838-498c-bb90-31bcc6860fc6",
   "metadata": {},
   "outputs": [],
   "source": [
    "# Define multiple frames\n",
    "frames = [\n",
    "    Frame(Point(600.00, -1331.00, 991.00), Vector(0, 1, 0), Vector(1, 0, 0)),\n",
    "    Frame(Point(768, -1218, 1486),   Vector(0.290866, 0.938115, -0.187983), Vector(0.80699, -0.135005, 0.574927)),\n",
    "    Frame(Point(-895, -1258, 1755),  Vector(0.305927, 0.824484, -0.476062), Vector(0.946093, -0.207403, 0.248781)),\n",
    "    Frame(Point(-1200, -1190, 1302), Vector(0.305955, 0.824445, -0.476112), Vector(0.946074, -0.207358, 0.248892))\n",
    "]\n",
    "\n",
    "# Define motion types for each frame\n",
    "motion_types = [\n",
    "    rrc.Motion.JOINT,\n",
    "    rrc.Motion.JOINT,\n",
    "    rrc.Motion.LINEAR,\n",
    "    rrc.Motion.JOINT,\n",
    "]\n",
    "\n",
    "speed = 1000  # mm/s\n",
    "zone  = rrc.Zone.Z20\n",
    "\n",
    "# Move through each frame one by one\n",
    "for i, frame in enumerate(frames):\n",
    "    print(f\"Moving to Frame {i+1}: {frame}\")\n",
    "    abb.send_and_wait(rrc.MoveToFrame(frame, speed, zone, motion_types[i]))\n",
    "    print(\"  -> Move complete\")\n",
    "\n",
    "print(\"All frames completed.\")\n"
   ]
  },
  {
   "cell_type": "code",
   "execution_count": null,
   "id": "b0104b91-8243-4bea-8252-3e6242499cc1",
   "metadata": {},
   "outputs": [],
   "source": [
    "ros.close()\n",
    "ros.terminate()\n"
   ]
  },
  {
   "cell_type": "code",
   "execution_count": null,
   "id": "16517401-9e11-47f8-9c29-f09014b343e8",
   "metadata": {},
   "outputs": [],
   "source": []
  }
 ],
 "metadata": {
  "kernelspec": {
   "display_name": "compas_env",
   "language": "python",
   "name": "python3"
  },
  "language_info": {
   "codemirror_mode": {
    "name": "ipython",
    "version": 3
   },
   "file_extension": ".py",
   "mimetype": "text/x-python",
   "name": "python",
   "nbconvert_exporter": "python",
   "pygments_lexer": "ipython3",
   "version": "3.8.20"
  }
 },
 "nbformat": 4,
 "nbformat_minor": 5
}
