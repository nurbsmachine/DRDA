{
 "cells": [
  {
   "cell_type": "code",
   "execution_count": 3,
   "id": "de985d99-1fb4-44ea-93f0-c549a3261dd2",
   "metadata": {},
   "outputs": [
    {
     "name": "stdout",
     "output_type": "stream",
     "text": [
      "Connected to ABB IRB 6700\n"
     ]
    }
   ],
   "source": [
    "import compas_rrc as rrc\n",
    "from compas.geometry import Point, Vector, Frame\n",
    "\n",
    "\n",
    "# Start ROS & ABB clients\n",
    "ros = rrc.RosClient()\n",
    "ros.run()\n",
    "\n",
    "abb = rrc.AbbClient(ros, '/rob1')\n",
    "print('Connected to ABB IRB 6700')\n",
    "    \n"
   ]
  },
  {
   "cell_type": "code",
   "execution_count": 4,
   "id": "99a51f78",
   "metadata": {},
   "outputs": [
    {
     "ename": "NameError",
     "evalue": "name 'GetFrame' is not defined",
     "output_type": "error",
     "traceback": [
      "\u001b[1;31m---------------------------------------------------------------------------\u001b[0m",
      "\u001b[1;31mNameError\u001b[0m                                 Traceback (most recent call last)",
      "Cell \u001b[1;32mIn[4], line 2\u001b[0m\n\u001b[0;32m      1\u001b[0m done \u001b[38;5;241m=\u001b[39m abb\u001b[38;5;241m.\u001b[39msend_and_wait(rrc\u001b[38;5;241m.\u001b[39mSetTool(\u001b[38;5;124m'\u001b[39m\u001b[38;5;124mfingergrab\u001b[39m\u001b[38;5;124m'\u001b[39m))\n\u001b[1;32m----> 2\u001b[0m frame \u001b[38;5;241m=\u001b[39m abb\u001b[38;5;241m.\u001b[39msend_and_wait(\u001b[43mGetFrame\u001b[49m())\n\u001b[0;32m      3\u001b[0m \u001b[38;5;28mprint\u001b[39m(\u001b[38;5;124m\"\u001b[39m\u001b[38;5;124mActive TCP frame:\u001b[39m\u001b[38;5;124m\"\u001b[39m, frame)\n",
      "\u001b[1;31mNameError\u001b[0m: name 'GetFrame' is not defined"
     ]
    }
   ],
   "source": [
    "done = abb.send_and_wait(rrc.SetTool('fingergrab'))\n",
    "frame = abb.send_and_wait(GetFrame())\n",
    "print(\"Active TCP frame:\", frame)\n"
   ]
  },
  {
   "cell_type": "code",
   "execution_count": null,
   "id": "e748ccaa",
   "metadata": {},
   "outputs": [],
   "source": [
    "def open_gripper():\n",
    "    abb.send_and_wait(rrc.SetDigital('ABB_Scalable_IO_0_DO8', 0))\n",
    "    abb.send_and_wait(rrc.SetDigital('ABB_Scalable_IO_0_DO6', 1))\n",
    "    print(\" → Gripper opened\")\n",
    "\n",
    "def close_gripper():\n",
    "    abb.send_and_wait(rrc.WaitTime(2.0))\n",
    "    abb.send_and_wait(rrc.SetDigital('ABB_Scalable_IO_0_DO6', 0))\n",
    "    abb.send_and_wait(rrc.SetDigital('ABB_Scalable_IO_0_DO8', 1))\n",
    "    # wait 2 seconds on the robot controller\n",
    "    abb.send_and_wait(rrc.WaitTime(2.0))\n",
    "    print(\" → Gripper closed\")\n",
    "\n",
    "# Define frames with matching keys\n",
    "frames = {\n",
    "    \"home\":           Frame(Point(690.435653, -1306.975386, 1366.823567), Vector(0,1,0), Vector(1,0,0)),\n",
    "    \"safe_plane\":     Frame(Point(196.3629, -1990.51,  1560.9089), Vector(0,1,0), Vector(1,0,0)),\n",
    "    \"approach_pick\":  Frame(Point(-303.6371,-1990.51,  1560.9089), Vector(0,1,0), Vector(1,0,0)),\n",
    "    \"pick\":           Frame(Point(-303.6371,-1990.51,  1260.9089), Vector(0,1,0), Vector(1,0,0)),\n",
    "    \"approach_place\": Frame(Point(946.3629, -1990.51,  1560.9089), Vector(0,1,0), Vector(1,0,0)),\n",
    "    \"place\":          Frame(Point(946.3629, -1990.51,  1260.9089), Vector(0,1,0), Vector(1,0,0)),}\n",
    "\n",
    "speed_fly    = 2000  # mm/s for transit moves\n",
    "speed_action =  200  # mm/s for pick/place\n",
    "zone         = rrc.Zone.FINE\n",
    "\n",
    "def do_move(step_name, frame, speed, motion):\n",
    "    abb.send_and_wait(rrc.MoveToFrame(frame, speed, zone, motion))\n",
    "    print(f\" → Step '{step_name}' ({motion}) completed\")\n"
   ]
  },
  {
   "cell_type": "code",
   "execution_count": null,
   "id": "42740f3d",
   "metadata": {},
   "outputs": [],
   "source": [
    "do_move(\"Hitting home\",    frames[\"home\"], speed_action,    rrc.Motion.JOINT)"
   ]
  },
  {
   "cell_type": "code",
   "execution_count": null,
   "id": "eb08dd49",
   "metadata": {},
   "outputs": [],
   "source": [
    "open_gripper()\n",
    "abb.send_and_wait(rrc.WaitTime(2.0))\n",
    "close_gripper()"
   ]
  },
  {
   "cell_type": "code",
   "execution_count": null,
   "id": "66a53fa6",
   "metadata": {},
   "outputs": [],
   "source": [
    "# Sequential workflow\n",
    "# do_move(\"Hitting home\",    frames[\"home\"],           speed_fly,    rrc.Motion.JOINT)\n",
    "do_move(\"Safe plane\",      frames[\"safe_plane\"],     speed_fly,    rrc.Motion.JOINT)\n",
    "do_move(\"Approach pick\",   frames[\"approach_pick\"],  speed_fly, rrc.Motion.JOINT)\n",
    "open_gripper()\n",
    "do_move(\"Pick\",            frames[\"pick\"],           speed_action, rrc.Motion.LINEAR)\n",
    "close_gripper()\n",
    "do_move(\"Retract pick\",    frames[\"approach_pick\"],  speed_action, rrc.Motion.LINEAR)\n",
    "do_move(\"Approach place\",  frames[\"approach_place\"], speed_fly,    rrc.Motion.JOINT)\n",
    "do_move(\"Place\",           frames[\"place\"],          speed_action, rrc.Motion.LINEAR)\n",
    "abb.send_and_wait(rrc.WaitTime(2.0))\n",
    "open_gripper()\n",
    "abb.send_and_wait(rrc.WaitTime(2.0))\n",
    "do_move(\"Retract place\",   frames[\"approach_place\"], speed_action, rrc.Motion.LINEAR)\n",
    "do_move(\"Return to safe\",  frames[\"safe_plane\"],     speed_fly,    rrc.Motion.LINEAR)\n",
    "do_move(\"Go home\",         frames[\"home\"],           speed_fly,    rrc.Motion.JOINT)\n",
    "\n",
    "print(\"All steps completed. Shutting down.\")\n",
    "ros.close()\n"
   ]
  },
  {
   "cell_type": "code",
   "execution_count": null,
   "id": "16517401-9e11-47f8-9c29-f09014b343e8",
   "metadata": {},
   "outputs": [],
   "source": []
  }
 ],
 "metadata": {
  "kernelspec": {
   "display_name": "Python (compas_env)",
   "language": "python",
   "name": "compas_env"
  },
  "language_info": {
   "codemirror_mode": {
    "name": "ipython",
    "version": 3
   },
   "file_extension": ".py",
   "mimetype": "text/x-python",
   "name": "python",
   "nbconvert_exporter": "python",
   "pygments_lexer": "ipython3",
   "version": "3.8.20"
  }
 },
 "nbformat": 4,
 "nbformat_minor": 5
}
