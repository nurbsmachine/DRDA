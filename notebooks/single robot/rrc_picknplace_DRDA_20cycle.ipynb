{
 "cells": [
  {
   "cell_type": "code",
   "execution_count": null,
   "id": "de985d99-1fb4-44ea-93f0-c549a3261dd2",
   "metadata": {},
   "outputs": [],
   "source": [
    "import compas_rrc as rrc\n",
    "from compas.geometry import Point, Vector, Frame\n",
    "import csv\n",
    "import os\n",
    "\n",
    "\n",
    "\n",
    "# Start ROS & ABB clients\n",
    "ros = rrc.RosClient()\n",
    "ros.run()\n",
    "\n",
    "abb = rrc.AbbClient(ros, '/rob1')\n",
    "print('Connected to ABB IRB 6700')\n",
    "    \n"
   ]
  },
  {
   "cell_type": "code",
   "execution_count": null,
   "id": "99a51f78",
   "metadata": {},
   "outputs": [],
   "source": [
    "done = abb.send_and_wait(rrc.SetTool('fingergrab'))\n",
    "frame = abb.send_and_wait(rrc.GetFrame())\n",
    "print(\"Active TCP frame:\", frame)\n"
   ]
  },
  {
   "cell_type": "code",
   "execution_count": null,
   "id": "51b81f03",
   "metadata": {},
   "outputs": [],
   "source": [
    "csv_filename = \"pose_log.csv\"\n",
    "csv_path = os.path.join(os.getcwd(), csv_filename)\n",
    "\n",
    "with open(csv_path, mode='w', newline='') as file:\n",
    "    writer = csv.writer(file)\n",
    "    writer.writerow([\"cycle\", \"direction\", \"x\", \"y\", \"z\", \"rx\", \"ry\", \"rz\"])\n"
   ]
  },
  {
   "cell_type": "code",
   "execution_count": null,
   "id": "e748ccaa",
   "metadata": {},
   "outputs": [],
   "source": [
    "def open_gripper():\n",
    "    abb.send_and_wait(rrc.SetDigital('ABB_Scalable_IO_0_DO8', 0))\n",
    "    abb.send_and_wait(rrc.SetDigital('ABB_Scalable_IO_0_DO6', 1))\n",
    "    print(\" → Gripper opened\")\n",
    "\n",
    "def close_gripper():\n",
    "    # abb.send_and_wait(rrc.WaitTime(1.0))\n",
    "    abb.send_and_wait(rrc.SetDigital('ABB_Scalable_IO_0_DO6', 0))\n",
    "    abb.send_and_wait(rrc.SetDigital('ABB_Scalable_IO_0_DO8', 1))\n",
    "    # wait 2 seconds on the robot controller\n",
    "    # abb.send_and_wait(rrc.WaitTime(1.0))\n",
    "    print(\" → Gripper closed\")\n",
    "\n",
    "# Define frames with matching keys\n",
    "frames = {\n",
    "    \"home\":           Frame(Point(690.435653, -1306.975386, 1366.823567), Vector(0,1,0), Vector(1,0,0)),\n",
    "    \"safe_plane\":     Frame(Point(-128.61, -1422.05,  1375.45), Vector(-0.999299,0.03518,0.012813), Vector(0.035444,0.99915,0.021035)),\n",
    "    \"approach_pick\":  Frame(Point(451.48, -1754.92, 1242.00), Vector(0.999962,-0.007326,0.004801), Vector(-0.007193,-0.999608,-0.027055)),\n",
    "    \"pick\":           Frame(Point(451.48, -1754.92, 1192.00), Vector(0.999962,-0.007326,0.004801), Vector(-0.007193,-0.999608,-0.027055)),\n",
    "    \"approach_place\": Frame(Point(444.41, -1754.95, 1243.00), Vector(0.999962,-0.007326,0.004801), Vector(-0.007193,-0.999608,-0.027055)),\n",
    "    \"place\":          Frame(Point(444.41, -1754.95, 1193.22), Vector(0.999962,-0.007326,0.004801), Vector(-0.007193,-0.999608,-0.027055)),}\n",
    "\n",
    "speed_fly    = 500  # mm/s for transit moves\n",
    "speed_action =  20  # mm/s for pick/place\n",
    "zone         = rrc.Zone.FINE\n",
    "\n",
    "# add z offset to frames for the place position\n",
    "frames[\"place\"].point.z += 25\n",
    "frames[\"approach_place\"].point.z += 28\n",
    "\n",
    "\n",
    "# for key, fm in frames.items():\n",
    "#     frames[key] = Frame(fm.point + Vector(0, 0, 100), fm.xaxis, fm.yaxis)\n",
    "\n",
    "\n",
    "def do_move(step_name, frame, speed, motion):\n",
    "    abb.send_and_wait(rrc.MoveToFrame(frame, speed, zone, motion))\n",
    "    print(f\" → Step '{step_name}' ({motion}) completed\")\n",
    "    \n"
   ]
  },
  {
   "cell_type": "code",
   "execution_count": null,
   "id": "42740f3d",
   "metadata": {},
   "outputs": [],
   "source": [
    "do_move(\"Hitting home\",    frames[\"home\"], speed_fly,    rrc.Motion.JOINT)"
   ]
  },
  {
   "cell_type": "code",
   "execution_count": null,
   "id": "eb08dd49",
   "metadata": {},
   "outputs": [],
   "source": [
    "open_gripper()\n",
    "abb.send_and_wait(rrc.WaitTime(2.0))\n",
    "close_gripper()"
   ]
  },
  {
   "cell_type": "code",
   "execution_count": null,
   "id": "66a53fa6",
   "metadata": {},
   "outputs": [],
   "source": [
    "# Sequential workflow\n",
    "def pick_and_place(pick_approach, pick, place_approach, place, cycle_num, direction):\n",
    "    print(f\"\\n[CYCLE {cycle_num}] {direction}: {pick} → {place}\")\n",
    "    do_move(f\"Approach {pick}\",   frames[pick_approach],  speed_fly,    rrc.Motion.JOINT)\n",
    "    open_gripper()\n",
    "    do_move(f\"Pick {pick}\",       frames[pick],           speed_action, rrc.Motion.LINEAR)\n",
    "    close_gripper()\n",
    "    do_move(f\"Retract {pick}\",    frames[pick_approach],  speed_action, rrc.Motion.LINEAR)\n",
    "    do_move(f\"Approach {place}\",  frames[place_approach], speed_fly,    rrc.Motion.JOINT)\n",
    "    do_move(f\"Place {place}\",     frames[place],          speed_action, rrc.Motion.LINEAR)\n",
    "    \n",
    "    log_pose_to_csv(cycle_num, direction)\n",
    "\n",
    "    abb.send_and_wait(rrc.WaitTime(1.0))\n",
    "    open_gripper()\n",
    "    abb.send_and_wait(rrc.WaitTime(1.0))\n",
    "    do_move(f\"Retract {place}\",   frames[place_approach], speed_action, rrc.Motion.LINEAR)\n",
    "\n",
    "print(\"All steps completed. Shutting down.\")\n",
    "ros.close()\n"
   ]
  },
  {
   "cell_type": "code",
   "execution_count": null,
   "id": "16517401-9e11-47f8-9c29-f09014b343e8",
   "metadata": {},
   "outputs": [],
   "source": [
    "do_move(\"Approach place\",  frames[\"approach_place\"], speed_fly,    rrc.Motion.JOINT)\n",
    "do_move(\"Place\",           frames[\"place\"],          speed_action, rrc.Motion.LINEAR)"
   ]
  }
 ],
 "metadata": {
  "kernelspec": {
   "display_name": "Python (compas_env)",
   "language": "python",
   "name": "compas_env"
  },
  "language_info": {
   "codemirror_mode": {
    "name": "ipython",
    "version": 3
   },
   "file_extension": ".py",
   "mimetype": "text/x-python",
   "name": "python",
   "nbconvert_exporter": "python",
   "pygments_lexer": "ipython3",
   "version": "3.8.20"
  }
 },
 "nbformat": 4,
 "nbformat_minor": 5
}
