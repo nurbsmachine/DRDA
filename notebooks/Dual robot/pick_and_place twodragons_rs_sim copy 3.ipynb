{
 "cells": [
  {
   "cell_type": "markdown",
   "id": "fac0db0f",
   "metadata": {},
   "source": [
    "**Init Communication**\n"
   ]
  },
  {
   "cell_type": "code",
   "execution_count": 1,
   "id": "8eac699a",
   "metadata": {},
   "outputs": [
    {
     "name": "stdout",
     "output_type": "stream",
     "text": [
      "Connected to both robots successfully.\n"
     ]
    }
   ],
   "source": [
    "import compas_rrc as rrc\n",
    "import json\n",
    "\n",
    "from compas.geometry import Point, Vector, Frame, Translation, Rotation\n",
    "\n",
    "ros = rrc.RosClient()\n",
    "ros.run()\n",
    "\n",
    "filma = rrc.AbbClient(ros, \"/rob2\")\n",
    "morda = rrc.AbbClient(ros, \"/rob1\")\n",
    "\n",
    "connect_filma = filma.send_and_wait(rrc.PrintText(\"Connecting to Filma...\"))\n",
    "connect_morda = morda.send_and_wait(rrc.PrintText(\"Connecting to Morda...\"))\n",
    "\n",
    "if connect_filma == \"Done\" and connect_morda == \"Done\":\n",
    "    print(\"Connected to both robots successfully.\")\n",
    "else:\n",
    "    print(\"Failed to connect to one or both robots.\")\n",
    "    exit(1)\n",
    "\n",
    "def go_home_mortadela():\n",
    "    return morda.send_and_wait(rrc.MoveToJoints(joints=[-90,-60,60,0,0,0],ext_axes=None,speed=2000,zone=rrc.Zone.FINE))\n",
    "\n",
    "def go_home_filma():\n",
    "    return filma.send_and_wait(rrc.MoveToJoints(joints=[90,-60,60,0,0,0],ext_axes=None,speed=2000,zone=rrc.Zone.FINE))\n",
    "\n",
    "def idle_mordadela():\n",
    "    return morda.send_and_wait(rrc.MoveToJoints(joints=[-75, -30, 60, 90, 90, 0],ext_axes=None,speed=2000,zone=rrc.Zone.FINE))\n",
    "\n",
    "def idle_filma():\n",
    "    return filma.send_and_wait(rrc.MoveToJoints(joints=[75, -30, 60, 90, -60, 0],ext_axes=None,speed=2000,zone=rrc.Zone.FINE))\n",
    "\n",
    "def open_gripper_mordadela():\n",
    "    morda.send_and_wait(rrc.SetDigital(\"ABB_Scalable_IO_0_DO8\", 1)) # OPEN\n",
    "    morda.send_and_wait(rrc.SetDigital(\"ABB_Scalable_IO_0_DO6\", 0)) # OPEN\n",
    "\n",
    "def close_gripper_mordadela():\n",
    "    morda.send_and_wait(rrc.SetDigital(\"ABB_Scalable_IO_0_DO8\", 0)) # CLOSE\n",
    "    morda.send_and_wait(rrc.SetDigital(\"ABB_Scalable_IO_0_DO6\", 1)) # CLOSE\n",
    "\n",
    "def open_gripper_filemona():\n",
    "    filma.send_and_wait(rrc.SetDigital(\"ABB_Scalable_IO_0_DO8\", 1)) # OPEN\n",
    "    filma.send_and_wait(rrc.SetDigital(\"ABB_Scalable_IO_0_DO4\", 0)) # OPEN    \n",
    "\n",
    "def close_gripper_filemona():\n",
    "    filma.send_and_wait(rrc.SetDigital(\"ABB_Scalable_IO_0_DO8\", 0)) # CLOSE\n",
    "    filma.send_and_wait(rrc.SetDigital(\"ABB_Scalable_IO_0_DO4\", 1)) # CLOSE\n"
   ]
  },
  {
   "cell_type": "code",
   "execution_count": null,
   "id": "fdb1aa30",
   "metadata": {},
   "outputs": [],
   "source": [
    "# # ─── Cell: Read Active TCP for Filma & Morda ────────────────────────────\n",
    "\n",
    "# # Filma: set tool and get TCP frame\n",
    "\n",
    "# done = filma.send_and_wait(rrc.SetTool('fingergrabfi'))\n",
    "# filma_tcp_frame = filma.send_and_wait(rrc.GetFrame())\n",
    "# print(\"Active TCP frame:\", filma_tcp_frame)\n",
    "\n",
    "# # Morda: set tool and get TCP frame\n",
    "\n",
    "# done = morda.send_and_wait(rrc.SetTool('fingergrab'))\n",
    "# morda_tcp_frame = morda.send_and_wait(rrc.GetFrame())\n",
    "# print(\"Active TCP frame:\", morda_tcp_frame)\n",
    "\n"
   ]
  },
  {
   "cell_type": "code",
   "execution_count": 2,
   "id": "76c52b92",
   "metadata": {},
   "outputs": [],
   "source": [
    "# ─── Cell 2 (updated): pick_and_place WITHOUT home_fn ───────────────────\n",
    "from compas.geometry import Translation\n",
    "\n",
    "def pick_and_place(\n",
    "    robot,\n",
    "    pick_frame,\n",
    "    place_frame,\n",
    "    # waypoint_frame,\n",
    "    speed,\n",
    "    zone,\n",
    "    open_fn,\n",
    "    close_fn,\n",
    "    idle_fn\n",
    "):\n",
    "    # Build 150 mm–back “approach” poses\n",
    "    approach_pick  = pick_frame.transformed(Translation.from_vector(pick_frame.zaxis * -300))\n",
    "    approach_place = place_frame.transformed(Translation.from_vector(place_frame.zaxis * -300))\n",
    "\n",
    "    # 1) Approach → open → pick → close → retract\n",
    "    robot.send_and_wait(rrc.MoveToFrame(approach_pick, speed, zone, rrc.Motion.JOINT))\n",
    "    # open_fn()\n",
    "    robot.send_and_wait(rrc.MoveToFrame(pick_frame,   speed/5.0, zone, rrc.Motion.LINEAR))\n",
    "    robot.send_and_wait(rrc.WaitTime(1.0))\n",
    "    # close_fn()\n",
    "    robot.send_and_wait(rrc.MoveToFrame(approach_pick, speed, zone, rrc.Motion.LINEAR))\n",
    "\n",
    "    # 2) Via waypoint\n",
    "    # robot.send_and_wait(rrc.MoveToFrame(waypoint_frame, speed, zone, rrc.Motion.JOINT))\n",
    "\n",
    "    # 3) Approach place → open → place → close → retract\n",
    "    robot.send_and_wait(rrc.MoveToFrame(approach_place, speed, zone, rrc.Motion.JOINT))\n",
    "    # open_fn()\n",
    "    robot.send_and_wait(rrc.MoveToFrame(place_frame,    speed/5.0, zone, rrc.Motion.LINEAR))\n",
    "    robot.send_and_wait(rrc.WaitTime(1.0))\n",
    "    # close_fn()\n",
    "    robot.send_and_wait(rrc.MoveToFrame(approach_place, speed, zone, rrc.Motion.LINEAR))\n",
    "\n",
    "    # 4) Back to idle\n",
    "    idle_fn()\n"
   ]
  },
  {
   "cell_type": "code",
   "execution_count": 3,
   "id": "04192927",
   "metadata": {},
   "outputs": [],
   "source": [
    "# --- Manual frame definitions ---\n",
    "# Filma (rob2) pick & place (same for all blocks)\n",
    "filma_pick_frame  = Frame(Point(232.82, 2275.88, 801.48), Vector(-0.9948, -0.0974, -0.0288), Vector(-0.0988, 0.9936, 0.0544))\n",
    "filma_place_frame = Frame(Point(1535.78, 1502.34, 1020.33), Vector(-0.99506, -0.09126, -0.03909), Vector(-0.09190, 0.99566, 0.01482))\n",
    "\n",
    "# Morda (rob1) pick frame (fixed)\n",
    "morda_pick_frame  = Frame(Point(1717.60, -1490.24, 988.89), Vector(-0.99890, -0.02895, 0.03699), Vector(-0.02878, 0.99957, 0.00506))\n",
    "\n",
    "# Morda place frames (one per block)\n",
    "morda_place_frames = [\n",
    "    Frame(Point(1582.75, 123.95, 978.88), Vector(-0.10008, -0.99498, -0.00266), Vector(-0.99433, 0.09992, 0.03639)),\n",
    "    # ... repeat and fill in up to 20 entries ...\n",
    "]\n",
    "\n",
    "# Number of blocks\n",
    "num_blocks = len(morda_place_frames)\n",
    "\n",
    "# Derive lists for Filma (repeat same frame for each block)\n",
    "pick_frames_filma  = [filma_pick_frame] * num_blocks\n",
    "place_frames_filma = [filma_place_frame] * num_blocks"
   ]
  },
  {
   "cell_type": "code",
   "execution_count": 4,
   "id": "4fcdb69f",
   "metadata": {},
   "outputs": [
    {
     "name": "stdout",
     "output_type": "stream",
     "text": [
      "Homing both robots…\n",
      "Both robots are at home.\n"
     ]
    }
   ],
   "source": [
    "# Home_check: Send both robots to home before starting any cycles ────────\n",
    "print(\"Homing both robots…\")\n",
    "go_home_filma()\n",
    "go_home_mortadela()\n",
    "print(\"Both robots are at home.\")\n"
   ]
  },
  {
   "cell_type": "code",
   "execution_count": 5,
   "id": "94e13904",
   "metadata": {},
   "outputs": [
    {
     "ename": "AssertionError",
     "evalue": "",
     "output_type": "error",
     "traceback": [
      "\u001b[1;31m---------------------------------------------------------------------------\u001b[0m",
      "\u001b[1;31mAssertionError\u001b[0m                            Traceback (most recent call last)",
      "Cell \u001b[1;32mIn[5], line 3\u001b[0m\n\u001b[0;32m      1\u001b[0m \u001b[38;5;66;03m# ─── Cell Z: Two-robot cycles without per-cycle homing, then final home ──\u001b[39;00m\n\u001b[0;32m      2\u001b[0m num_parts \u001b[38;5;241m=\u001b[39m \u001b[38;5;28mlen\u001b[39m(place_frames_filma)\n\u001b[1;32m----> 3\u001b[0m \u001b[38;5;28;01massert\u001b[39;00m num_parts \u001b[38;5;241m==\u001b[39m \u001b[38;5;28mlen\u001b[39m(pick_frames_filma) \u001b[38;5;241m==\u001b[39m \u001b[38;5;28mlen\u001b[39m(morda_pick_frame) \u001b[38;5;241m==\u001b[39m \u001b[38;5;28mlen\u001b[39m(morda_place_frames)\n\u001b[0;32m      5\u001b[0m \u001b[38;5;28;01mfor\u001b[39;00m i \u001b[38;5;129;01min\u001b[39;00m \u001b[38;5;28mrange\u001b[39m(num_parts):\n\u001b[0;32m      6\u001b[0m     block \u001b[38;5;241m=\u001b[39m i \u001b[38;5;241m+\u001b[39m \u001b[38;5;241m1\u001b[39m\n",
      "\u001b[1;31mAssertionError\u001b[0m: "
     ]
    }
   ],
   "source": [
    "# ─── Cell Z: Two-robot cycles without per-cycle homing, then final home ──\n",
    "num_parts = len(place_frames_filma)\n",
    "assert num_parts == len(pick_frames_filma) == len(morda_pick_frame) == len(morda_place_frames)\n",
    "\n",
    "for i in range(num_parts):\n",
    "    block = i + 1\n",
    "    print(f\"\\n=== Cycle {block} of {num_parts} ===\")\n",
    "\n",
    "    print(f\"Filma starting block {block}\")\n",
    "    pick_and_place(\n",
    "        robot          = filma,\n",
    "        pick_frame     = pick_frames_filma[i],\n",
    "        place_frame    = place_frames_filma[i],\n",
    "        # waypoint_frame = waypoint_frame_filma,\n",
    "        speed          = 2000,\n",
    "        zone           = rrc.Zone.FINE,\n",
    "        # open_fn        = open_gripper_filemona,\n",
    "        # close_fn       = close_gripper_filemona,\n",
    "        idle_fn        = idle_filma\n",
    "    )\n",
    "    print(f\"Filma finished block {block}\")\n",
    "\n",
    "    print(f\"Morda starting block {block}\")\n",
    "    pick_and_place(\n",
    "        robot          = morda,\n",
    "        pick_frame     = morda_pick_frame[i],\n",
    "        place_frame    = morda_place_frames[i],\n",
    "        # waypoint_frame = waypoint_frame_morda,\n",
    "        speed          = 2000,\n",
    "        zone           = rrc.Zone.FINE,\n",
    "        # open_fn        = open_gripper_mordadela,\n",
    "        # close_fn       = close_gripper_mordadela,\n",
    "        idle_fn        = idle_mordadela\n",
    "    )\n",
    "    print(f\"Morda finished block {block}\")\n",
    "\n",
    "print(\"\\nAll cycles done — sending both robots home again.\")\n",
    "go_home_filma()\n",
    "go_home_mortadela()\n",
    "print(\"Both robots are homed. Sequence complete.\")\n"
   ]
  }
 ],
 "metadata": {
  "kernelspec": {
   "display_name": "compas_env",
   "language": "python",
   "name": "python3"
  },
  "language_info": {
   "codemirror_mode": {
    "name": "ipython",
    "version": 3
   },
   "file_extension": ".py",
   "mimetype": "text/x-python",
   "name": "python",
   "nbconvert_exporter": "python",
   "pygments_lexer": "ipython3",
   "version": "3.8.20"
  }
 },
 "nbformat": 4,
 "nbformat_minor": 5
}
