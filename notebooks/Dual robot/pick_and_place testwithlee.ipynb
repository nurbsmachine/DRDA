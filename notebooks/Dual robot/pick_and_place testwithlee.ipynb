{
 "cells": [
  {
   "cell_type": "markdown",
   "id": "fac0db0f",
   "metadata": {},
   "source": [
    "**Init Communication**\n"
   ]
  },
  {
   "cell_type": "code",
   "execution_count": null,
   "id": "8eac699a",
   "metadata": {},
   "outputs": [],
   "source": [
    "import compas_rrc as rrc\n",
    "import json\n",
    "\n",
    "from compas.geometry import Point, Vector, Frame, Translation, Rotation\n",
    "\n",
    "ros = rrc.RosClient()\n",
    "ros.run()\n",
    "\n",
    "filma = rrc.AbbClient(ros, \"/rob2\")\n",
    "morda = rrc.AbbClient(ros, \"/rob1\")\n",
    "\n",
    "connect_filma = filma.send_and_wait(rrc.PrintText(\"Connecting to Filma...\"))\n",
    "connect_morda = morda.send_and_wait(rrc.PrintText(\"Connecting to Morda...\"))\n",
    "\n",
    "if connect_filma == \"Done\" and connect_morda == \"Done\":\n",
    "    print(\"Connected to both robots successfully.\")\n",
    "else:\n",
    "    print(\"Failed to connect to one or both robots.\")\n",
    "    exit(1)\n",
    "\n",
    "def go_home_mortadela():\n",
    "    return morda.send_and_wait(rrc.MoveToJoints(joints=[-69.24,-12.78,28.21,-1.82,75,-155.83],ext_axes=None,speed=200,zone=rrc.Zone.FINE))\n",
    "\n",
    "def open_gripper_mordadela():\n",
    "    morda.send_and_wait(rrc.SetDigital(\"ABB_Scalable_IO_0_DO8\", 1)) # OPEN\n",
    "    morda.send_and_wait(rrc.SetDigital(\"ABB_Scalable_IO_0_DO6\", 0)) # OPEN\n",
    "\n",
    "def close_gripper_mordadela():\n",
    "    morda.send_and_wait(rrc.SetDigital(\"ABB_Scalable_IO_0_DO8\", 0)) # CLOSE\n",
    "    morda.send_and_wait(rrc.SetDigital(\"ABB_Scalable_IO_0_DO6\", 1)) # CLOSE"
   ]
  },
  {
   "cell_type": "code",
   "execution_count": null,
   "id": "76c52b92",
   "metadata": {},
   "outputs": [],
   "source": [
    "\n",
    "def pick_and_place(robot, pick_frame, place_frame, waypoint_frame, speed, zone):\n",
    "    transform = Translation.from_vector(pick_frame.zaxis * -150)\n",
    "    approach_pick = pick_frame.transformed(transform)\n",
    "\n",
    "    transform = Translation.from_vector(place_frame.zaxis * -150)\n",
    "    approach_place = place_frame.transformed(transform)\n",
    "    robot.send_and_wait(rrc.MoveToFrame(frame=approach_pick, speed=speed, zone=rrc.Zone.FINE, motion_type=rrc.Motion.JOINT))\n",
    "    # open_gripper_mordadela()\n",
    "    robot.send_and_wait(rrc.MoveToFrame(frame=pick_frame, speed=speed/5, zone=rrc.Zone.FINE, motion_type=rrc.Motion.LINEAR))\n",
    "    robot.send_and_wait(rrc.WaitTime(1.0))\n",
    "    # close_gripper_mordadela()\n",
    "\n",
    "    robot.send_and_wait(rrc.MoveToFrame(frame=approach_pick, speed=speed, zone=zone, motion_type=rrc.Motion.LINEAR))\n",
    "\n",
    "\n",
    "    robot.send_and_wait(rrc.MoveToFrame(frame=waypoint_frame, speed=speed, zone=zone, motion_type=rrc.Motion.JOINT))\n",
    "\n",
    "    robot.send_and_wait(rrc.MoveToFrame(frame=approach_place, speed=speed, zone=zone, motion_type=rrc.Motion.JOINT))\n",
    "    robot.send_and_wait(rrc.MoveToFrame(frame=place_frame, speed=speed/5, zone=zone, motion_type=rrc.Motion.LINEAR))\n",
    "    robot.send_and_wait(rrc.WaitTime(1.0))\n",
    "    # open_gripper_mordadela()\n",
    "\n",
    "    robot.send_and_wait(rrc.MoveToFrame(frame=approach_place, speed=speed, zone=zone, motion_type=rrc.Motion.LINEAR))\n",
    "    task = go_home_mortadela()\n",
    "    if task == \"Done\":\n",
    "        print(\"Pick and place operation completed successfully.\")\n",
    "        robot.send_and_wait(rrc.PrintText(\"Pick and place operation completed.\"))\n",
    "    else:\n",
    "        print(\"Pick and place operation failed.\")\n",
    "\n",
    "\n",
    "\n"
   ]
  },
  {
   "cell_type": "code",
   "execution_count": null,
   "id": "04192927",
   "metadata": {},
   "outputs": [],
   "source": [
    "def load_frames_from_json(file_path):\n",
    "    with open(file_path, 'r') as file:\n",
    "        data = json.load(file)\n",
    "\n",
    "    def to_compas_frame(frame_data):\n",
    "        point = Point(*frame_data['position'])\n",
    "        xaxis = Vector(*frame_data['x_axis'])\n",
    "        yaxis = Vector(*frame_data['y_axis'])\n",
    "        return Frame(point, xaxis, yaxis)\n",
    "\n",
    "    pick_frames = [to_compas_frame(f) for f in data.get(\"pick_frames\", [])]\n",
    "    place_frames = [to_compas_frame(f) for f in data.get(\"place_frames\", [])]\n",
    "    waypoint_frame = to_compas_frame(data[\"waypoint_frame\"])\n",
    "\n",
    "    return pick_frames, place_frames, waypoint_frame\n"
   ]
  },
  {
   "cell_type": "code",
   "execution_count": null,
   "id": "1b91e037",
   "metadata": {},
   "outputs": [],
   "source": [
    "pick_frames, place_frames, waypoint_frame = load_frames_from_json(r\"D:\\IAAC_24-25\\MRAC_02\\Collaborative_print\\demo_rrc\\demo_rrc\\python\\Two robos\\task_mortadela.json\")"
   ]
  },
  {
   "cell_type": "code",
   "execution_count": null,
   "id": "5f8133d8",
   "metadata": {},
   "outputs": [],
   "source": [
    "for pick_frame, place_frame in zip(pick_frames, place_frames):\n",
    "    pick_and_place(morda, pick_frame, place_frame, waypoint_frame, speed=500, zone=rrc.Zone.FINE)\n",
    "    "
   ]
  }
 ],
 "metadata": {
  "kernelspec": {
   "display_name": "Python (compas_env)",
   "language": "python",
   "name": "compas_env"
  },
  "language_info": {
   "codemirror_mode": {
    "name": "ipython",
    "version": 3
   },
   "file_extension": ".py",
   "mimetype": "text/x-python",
   "name": "python",
   "nbconvert_exporter": "python",
   "pygments_lexer": "ipython3",
   "version": "3.8.20"
  }
 },
 "nbformat": 4,
 "nbformat_minor": 5
}
