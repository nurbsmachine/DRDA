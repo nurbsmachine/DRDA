{
 "cells": [
  {
   "cell_type": "markdown",
   "id": "fac0db0f",
   "metadata": {},
   "source": [
    "**Init Communication**\n"
   ]
  },
  {
   "cell_type": "code",
   "execution_count": null,
   "id": "8eac699a",
   "metadata": {},
   "outputs": [],
   "source": [
    "import compas_rrc as rrc\n",
    "import json\n",
    "\n",
    "from compas.geometry import Point, Vector, Frame\n",
    "\n",
    "ros = rrc.RosClient()\n",
    "ros.run()\n",
    "\n",
    "filma = rrc.AbbClient(ros, \"/rob2\")\n",
    "morda = rrc.AbbClient(ros, \"/rob1\")\n",
    "\n",
    "connect_filma = filma.send_and_wait(rrc.PrintText(\"Connecting to Filma...\"))\n",
    "connect_morda = morda.send_and_wait(rrc.PrintText(\"Connecting to Morda...\"))\n",
    "\n",
    "if connect_filma == \"Done\" and connect_morda == \"Done\":\n",
    "    print(\"Connected to both robots successfully.\")\n",
    "else:\n",
    "    print(\"Failed to connect to one or both robots.\")\n",
    "    exit(1)"
   ]
  },
  {
   "cell_type": "code",
   "execution_count": null,
   "id": "76c52b92",
   "metadata": {},
   "outputs": [],
   "source": [
    "\n",
    "def pick_and_place(robot, pick_frame, place_frame, waypoint_frame, idle_frame, speed, zone):\n",
    "    approach_pick = pick_frame.z + 150\n",
    "    approch_place = place_frame.z + 150\n",
    "    robot.send_and_wait(rrc.MoveToFrame(frame=approach_pick, speed=speed, zone=zone, motion_type=rrc.Motion.JOINT))\n",
    "    robot.send_and_wait(rrc.MoveToFrame(frame=pick_frame, speed=speed/2, zone=zone, motion_type=rrc.Motion.LINEAR))\n",
    "    robot.send_and_wait(rrc.WaitTime(1.0))\n",
    "    robot.send_and_wait(rrc.SetDigital(\"abb_scalable_io\", 0))\n",
    "    robot.send_and_wait(rrc.WaitTime(1.0))\n",
    "    robot.send_and_wait(rrc.SetDigital(\"abb_scalable_io\", 1))\n",
    "    robot.send_and_wait(rrc.MoveToFrame(frame=waypoint_frame, speed=speed, zone=zone, motion_type=rrc.Motion.JOINT))\n",
    "    robot.send_and_wait(rrc.MoveToFrame(frame=approch_place, speed=speed, zone=zone, motion_type=rrc.Motion.JOINT))\n",
    "    robot.send_and_wait(rrc.MoveToFrame(frame=place_frame, speed=speed/2, zone=zone, motion_type=rrc.Motion.LINEAR))\n",
    "    robot.send_and_wait(rrc.WaitTime(1.0))\n",
    "    robot.send_and_wait(rrc.SetDigital(\"abb_scalable_io\", 0))\n",
    "    robot.send_and_wait(rrc.MoveToFrame(frame=approch_place, speed=speed, zone=zone, motion_type=rrc.Motion.LINEAR))\n",
    "    task = robot.send_and_wait(rrc.MoveToFrame(frame=idle_frame, speed=speed, zone=zone, motion_type=rrc.Motion.JOINT))\n",
    "    if task == \"Done\":\n",
    "        print(\"Pick and place operation completed successfully.\")\n",
    "    else:\n",
    "        print(\"Pick and place operation failed.\")\n",
    "\n",
    "def go_home():\n",
    "    filma.send_and_wait(rrc.MoveToJoints(joints=[-20,-12,55,0,48,70],ext_axes=None,speed=200,zone=rrc.Zone.FINE))\n",
    "    # morda.send_and_wait(rrc.MoveToJoints(joints=[-13,-17,55,0,48,-103],ext_axes=None,speed=200,zone=rrc.Zone.FINE))\n",
    "\n"
   ]
  },
  {
   "cell_type": "code",
   "execution_count": null,
   "id": "04192927",
   "metadata": {},
   "outputs": [],
   "source": [
    "def load_frames_from_json(file_path):\n",
    "    with open(file_path, 'r') as file:\n",
    "        data = json.load(file)\n",
    "\n",
    "    def to_compas_frame(frame_data):\n",
    "        point = Point(*frame_data['position'])\n",
    "        xaxis = Vector(*frame_data['x_axis'])\n",
    "        yaxis = Vector(*frame_data['y_axis'])\n",
    "        return Frame(point, xaxis, yaxis)\n",
    "\n",
    "    pick_frames = [to_compas_frame(f) for f in data.get(\"pick_frames\", [])]\n",
    "    place_frames = [to_compas_frame(f) for f in data.get(\"place_frames\", [])]\n",
    "    waypoint_frame = to_compas_frame(data[\"waypoint_frame\"])\n",
    "\n",
    "    return pick_frames, place_frames, waypoint_frame\n"
   ]
  },
  {
   "cell_type": "code",
   "execution_count": null,
   "id": "1b91e037",
   "metadata": {},
   "outputs": [],
   "source": [
    "pick_frames, place_frames, waypoint_frame = load_frames_from_json(r\"D:\\IAAC\\Robots\\compas-rrc\\demo_rrc\\task_filomena.json\")"
   ]
  },
  {
   "cell_type": "code",
   "execution_count": null,
   "id": "5f8133d8",
   "metadata": {},
   "outputs": [],
   "source": [
    "for f in pick_frames:\n",
    "    print(f)"
   ]
  }
 ],
 "metadata": {
  "kernelspec": {
   "display_name": "abb_compas",
   "language": "python",
   "name": "python3"
  },
  "language_info": {
   "codemirror_mode": {
    "name": "ipython",
    "version": 3
   },
   "file_extension": ".py",
   "mimetype": "text/x-python",
   "name": "python",
   "nbconvert_exporter": "python",
   "pygments_lexer": "ipython3",
   "version": "3.8.19"
  }
 },
 "nbformat": 4,
 "nbformat_minor": 5
}
